{
 "cells": [
  {
   "cell_type": "code",
   "execution_count": 1,
   "metadata": {},
   "outputs": [],
   "source": [
    "import requests\n",
    "import pandas as pd\n",
    "import logging\n",
    "import sys\n",
    "\n",
    "'''reading API and CSV'''\n",
    "def get_json(start_date: str, end_date: str) -> dict:\n",
    "    try:\n",
    "        intensity = requests.get('https://api.carbonintensity.org.uk/intensity/'+start_date+'/'+end_date)\n",
    "        return intensity.json()['data']\n",
    "    except (requests.exceptions.RequestException, KeyError) as e:\n",
    "        logging.error(e)\n",
    "        return None\n",
    "        \n",
    "def get_csv(infile: str) -> pd.DataFrame:\n",
    "    try:\n",
    "        power = pd.read_csv(infile)\n",
    "        return power\n",
    "    except IOError as e:\n",
    "        logging.error(e)\n",
    "        return None"
   ]
  },
  {
   "cell_type": "code",
   "execution_count": 2,
   "metadata": {},
   "outputs": [],
   "source": [
    "from datetime import datetime\n",
    "\n",
    "'''converting dates'''\n",
    "def convert_intensity_date(intensity_date: str) -> datetime:\n",
    "    return datetime.strptime(intensity_date, '%Y-%m-%dT%H:%MZ')\n",
    "\n",
    "def convert_power_date(power_date: str) -> datetime:\n",
    "    return datetime.strptime(power_date, '%Y-%m-%d %H:%M:%S.%f0')"
   ]
  },
  {
   "cell_type": "code",
   "execution_count": 3,
   "metadata": {},
   "outputs": [],
   "source": [
    "import bisect\n",
    "\n",
    "'''resampling data to common rate (half an hour)'''\n",
    "def resampling(intensity: dict, power: pd.DataFrame) -> list:\n",
    "\n",
    "    final_values = []\n",
    "    last_result = None\n",
    "\n",
    "    # current date and time\n",
    "    for i in range(1, len(intensity)):\n",
    "        from_intensity = convert_intensity_date(intensity[i]['from'])\n",
    "        to_intensity = convert_intensity_date(intensity[i]['to'])\n",
    "        value_intensity = intensity[i]['intensity']['actual']\n",
    "\n",
    "        pair_power = [(convert_power_date(x[0]),x[3]) for x in power.values]\n",
    "        pair_power.sort(key=lambda x: x[0])\n",
    "        date_power, value_power = zip(*pair_power)\n",
    "        left = bisect.bisect_left(date_power, from_intensity)\n",
    "        right = bisect.bisect_right(date_power, to_intensity)\n",
    "        date_results = date_power[left+1:right]\n",
    "        power_results = value_power[left+1:right]\n",
    "\n",
    "        if len(date_results) > 0:\n",
    "            avg_power = sum(power_results)/len(power_results)\n",
    "            final_value = avg_power*value_intensity\n",
    "            last_result = final_value\n",
    "        elif last_result != None:\n",
    "            final_value = last_result\n",
    "        else:\n",
    "            final_value = float('nan')\n",
    "\n",
    "        final_values.append((i, final_value))\n",
    "\n",
    "    return final_values"
   ]
  },
  {
   "cell_type": "code",
   "execution_count": 4,
   "metadata": {},
   "outputs": [],
   "source": [
    "import csv\n",
    "\n",
    "'''creating csv file and storing calculated data in it'''\n",
    "def store_in_csv(intensity: dict, power: pd.DataFrame, filename: str) -> int:\n",
    "    values = resampling(intensity, power)\n",
    "\n",
    "    try:\n",
    "        file = open(filename, 'w')\n",
    "    except OSError as e:\n",
    "        logging.error(e)\n",
    "        return -1\n",
    "    with file:\n",
    "        writer = csv.writer(file)\n",
    "        writer.writerow([\"HalfHourId\",\"Value\"])\n",
    "        for i in range(len(values)):\n",
    "            writer.writerow([values[i][0], values[i][1]])\n",
    "            \n",
    "    return 1"
   ]
  },
  {
   "cell_type": "code",
   "execution_count": 5,
   "metadata": {},
   "outputs": [],
   "source": [
    "import sqlite3\n",
    "\n",
    "'''creating sqlite3 db and storing calculated data in it'''\n",
    "def store_in_sqlite3(intensity: dict, power: pd.DataFrame, db_name: str, table_name: str) -> int:\n",
    "    values = resampling(intensity, power)\n",
    "\n",
    "    try:\n",
    "        conn = sqlite3.connect(db_name)\n",
    "\n",
    "        c = conn.cursor()\n",
    "\n",
    "        c.execute(\"DROP TABLE IF EXISTS %s\" % table_name)\n",
    "\n",
    "        # Create table\n",
    "        c.execute(\"CREATE TABLE %s (HalfHourId real, value real)\" % table_name)\n",
    "\n",
    "        for i in range(len(values)):\n",
    "            half_hour_id = values[i][0]\n",
    "            if str(values[i][1]) == 'nan':\n",
    "                value = 'null'\n",
    "            else:\n",
    "                value = values[i][1]\n",
    "            # Insert a row of data\n",
    "            c.execute(\"INSERT INTO %s VALUES (?, ?)\" % table_name, (half_hour_id, value))\n",
    "\n",
    "        # Save (commit) the changes\n",
    "        conn.commit()\n",
    "\n",
    "        # We can also close the connection if we are done with it.\n",
    "        # Just be sure any changes have been committed or they will be lost.\n",
    "        conn.close()\n",
    "    except sqlite3.Error as e:\n",
    "        logging.error(e)\n",
    "        return -1\n",
    "    return 1"
   ]
  },
  {
   "cell_type": "code",
   "execution_count": 6,
   "metadata": {},
   "outputs": [],
   "source": [
    "'''querying from created db'''\n",
    "def query_from_sqlite3(db_name, table_name):\n",
    "    try:\n",
    "        conn = sqlite3.connect(db_name)\n",
    "        c = conn.cursor()\n",
    "        c.execute('SELECT * FROM %s WHERE HalfHourId >= 14 and HalfHourId <= 20' % table_name)\n",
    "        return c.fetchall()\n",
    "        conn.close()\n",
    "    except sqlite3.Error as e:\n",
    "        logging.error(e)\n",
    "        return -1\n",
    "    return 1"
   ]
  },
  {
   "cell_type": "code",
   "execution_count": 7,
   "metadata": {},
   "outputs": [
    {
     "data": {
      "text/plain": [
       "[(14.0, 298053.4147652754),\n",
       " (15.0, 298053.4147652754),\n",
       " (16.0, 298053.4147652754),\n",
       " (17.0, 298053.4147652754),\n",
       " (18.0, 298053.4147652754),\n",
       " (19.0, 298053.4147652754),\n",
       " (20.0, 298053.4147652754)]"
      ]
     },
     "execution_count": 7,
     "metadata": {},
     "output_type": "execute_result"
    }
   ],
   "source": [
    "'''defining input names'''\n",
    "intensity = get_json(start_date='2019-11-25', end_date='2019-11-26')\n",
    "power = get_csv('power_measurements_2019-11-25.csv')\n",
    "\n",
    "'''output names'''\n",
    "csv_name = 'results.csv'\n",
    "db_name = 'results.db'\n",
    "table_name = 'results'\n",
    "\n",
    "'''calculating and storing data'''\n",
    "store_in_csv(intensity, power, csv_name)\n",
    "store_in_sqlite3(intensity, power, db_name, table_name)\n",
    "\n",
    "'''querying from created db'''\n",
    "query_from_sqlite3(db_name, table_name)"
   ]
  },
  {
   "cell_type": "code",
   "execution_count": 8,
   "metadata": {},
   "outputs": [
    {
     "name": "stderr",
     "output_type": "stream",
     "text": [
      "ERROR:root:'data'\n"
     ]
    }
   ],
   "source": [
    "'''test for exception'''\n",
    "assert get_json(start_date='2029-11-25', end_date='2019-11-26') == None"
   ]
  },
  {
   "cell_type": "code",
   "execution_count": 9,
   "metadata": {},
   "outputs": [
    {
     "name": "stderr",
     "output_type": "stream",
     "text": [
      "ERROR:root:[Errno 2] File b'doesnt_exist.csv' does not exist: b'doesnt_exist.csv'\n"
     ]
    }
   ],
   "source": [
    "'''test for exception'''\n",
    "assert get_csv('doesnt_exist.csv') == None"
   ]
  },
  {
   "cell_type": "code",
   "execution_count": 11,
   "metadata": {},
   "outputs": [
    {
     "name": "stderr",
     "output_type": "stream",
     "text": [
      "ERROR:root:[Errno 13] Permission denied: 'cant_write_here.txt'\n"
     ]
    }
   ],
   "source": [
    "'''test for exception'''\n",
    "intensity = get_json(start_date='2019-11-25', end_date='2019-11-26')\n",
    "power = get_csv('power_measurements_2019-11-25.csv')\n",
    "\n",
    "'''create unwritable file'''\n",
    "import os\n",
    "from stat import S_IREAD\n",
    "\n",
    "unwritable = 'cant_write_here.txt'\n",
    "if not os.path.isfile(unwritable):\n",
    "    open(unwritable, 'a').close()\n",
    "    os.chmod(unwritable, S_IREAD)\n",
    "\n",
    "'''try to write into unwritable file'''\n",
    "assert store_in_csv(intensity, power, unwritable) == -1"
   ]
  },
  {
   "cell_type": "code",
   "execution_count": 12,
   "metadata": {},
   "outputs": [],
   "source": [
    "'''test for good result and repeatability'''\n",
    "intensity = get_json(start_date='2019-11-25', end_date='2019-11-26')\n",
    "power = get_csv('power_measurements_2019-11-25.csv')\n",
    "\n",
    "db_name = 'already_exists.db'\n",
    "table_name = 'already_exists'\n",
    "\n",
    "expected_result =  [(14.0, 298053.4147652754),\n",
    "                    (15.0, 298053.4147652754),\n",
    "                    (16.0, 298053.4147652754),\n",
    "                    (17.0, 298053.4147652754),\n",
    "                    (18.0, 298053.4147652754),\n",
    "                    (19.0, 298053.4147652754),\n",
    "                    (20.0, 298053.4147652754)]\n",
    "\n",
    "assert store_in_sqlite3(intensity, power, db_name, table_name) == 1\n",
    "assert query_from_sqlite3(db_name, table_name) == expected_result\n",
    "\n",
    "assert store_in_sqlite3(intensity, power, db_name, table_name) == 1\n",
    "assert query_from_sqlite3(db_name, table_name) == expected_result"
   ]
  }
 ],
 "metadata": {
  "kernelspec": {
   "display_name": "Python 3",
   "language": "python",
   "name": "python3"
  },
  "language_info": {
   "codemirror_mode": {
    "name": "ipython",
    "version": 3
   },
   "file_extension": ".py",
   "mimetype": "text/x-python",
   "name": "python",
   "nbconvert_exporter": "python",
   "pygments_lexer": "ipython3",
   "version": "3.7.4"
  }
 },
 "nbformat": 4,
 "nbformat_minor": 4
}
